{
 "cells": [
  {
   "cell_type": "markdown",
   "id": "beff29af",
   "metadata": {},
   "source": [
    "### Read the three annotated files"
   ]
  },
  {
   "cell_type": "code",
   "execution_count": 65,
   "id": "66fa0f1d",
   "metadata": {},
   "outputs": [],
   "source": [
    "import ast\n",
    "import nltk\n",
    "from nltk.tokenize import word_tokenize\n",
    "\n",
    "import json\n",
    "import pandas as pd"
   ]
  },
  {
   "cell_type": "code",
   "execution_count": 66,
   "id": "3f05984d",
   "metadata": {},
   "outputs": [],
   "source": [
    "def read_data(filename):\n",
    "    data = []\n",
    "    with open(filename) as f:\n",
    "        for line in f:\n",
    "            data.append(json.loads(line))\n",
    "    \n",
    "    return data"
   ]
  },
  {
   "cell_type": "code",
   "execution_count": 67,
   "id": "a48909dc",
   "metadata": {},
   "outputs": [],
   "source": [
    "# finaldata1 = pd.read_csv('player1_data_1103.csv')\n",
    "# finaldata2 = pd.read_csv('player2_data_1103.csv')\n",
    "# finaldata3 = pd.read_csv('player3_data_1103.csv')\n",
    "\n",
    "finaldata1 = pd.read_csv('player1_data_2204.csv')\n",
    "finaldata2 = pd.read_csv('player2_data_2204.csv')\n",
    "finaldata3 = pd.read_csv('player3_data_2204.csv')"
   ]
  },
  {
   "cell_type": "code",
   "execution_count": 68,
   "id": "01434d29",
   "metadata": {
    "scrolled": true
   },
   "outputs": [],
   "source": [
    "finaldata1['label'] = finaldata1['label'].apply(lambda x: ast.literal_eval(x))\n",
    "finaldata2['label'] = finaldata2['label'].apply(lambda x: ast.literal_eval(x))\n",
    "finaldata3['label'] = finaldata3['label'].apply(lambda x: ast.literal_eval(x))"
   ]
  },
  {
   "cell_type": "markdown",
   "id": "e59ddbad",
   "metadata": {},
   "source": [
    "### Compute the M&A"
   ]
  },
  {
   "cell_type": "code",
   "execution_count": 69,
   "id": "026beeba",
   "metadata": {},
   "outputs": [],
   "source": [
    "def merger_or_acquisition(dataframe):\n",
    "    dataframe['labels'] = dataframe['label'].apply(lambda x: [i[2] for i in x])\n",
    "    dataframe['merger_or_acq'] = dataframe['labels'].apply(lambda x: 'Acq' if 'Target' in x else ('Merger' if 'Bidder' in x else 'None'))\n",
    "    \n",
    "    dataframe.drop('labels', axis = 1, inplace = True)"
   ]
  },
  {
   "cell_type": "code",
   "execution_count": 70,
   "id": "22a5c801",
   "metadata": {
    "scrolled": true
   },
   "outputs": [],
   "source": [
    "merger_or_acquisition(finaldata1)\n",
    "merger_or_acquisition(finaldata2)\n",
    "merger_or_acquisition(finaldata3)"
   ]
  },
  {
   "cell_type": "markdown",
   "id": "9648ae5e",
   "metadata": {},
   "source": [
    "### Concatenate all dataframes together"
   ]
  },
  {
   "cell_type": "code",
   "execution_count": 71,
   "id": "e00b953c",
   "metadata": {},
   "outputs": [],
   "source": [
    "overall_df = pd.concat([finaldata1, finaldata2, finaldata3])"
   ]
  },
  {
   "cell_type": "code",
   "execution_count": 72,
   "id": "b91df27d",
   "metadata": {},
   "outputs": [],
   "source": [
    "overall_df.reset_index(drop = True, inplace = True)"
   ]
  },
  {
   "cell_type": "code",
   "execution_count": 73,
   "id": "216e194b",
   "metadata": {
    "scrolled": true
   },
   "outputs": [
    {
     "data": {
      "text/html": [
       "<div>\n",
       "<style scoped>\n",
       "    .dataframe tbody tr th:only-of-type {\n",
       "        vertical-align: middle;\n",
       "    }\n",
       "\n",
       "    .dataframe tbody tr th {\n",
       "        vertical-align: top;\n",
       "    }\n",
       "\n",
       "    .dataframe thead th {\n",
       "        text-align: right;\n",
       "    }\n",
       "</style>\n",
       "<table border=\"1\" class=\"dataframe\">\n",
       "  <thead>\n",
       "    <tr style=\"text-align: right;\">\n",
       "      <th></th>\n",
       "      <th>id</th>\n",
       "      <th>data</th>\n",
       "      <th>label</th>\n",
       "      <th>merger_or_acq</th>\n",
       "    </tr>\n",
       "  </thead>\n",
       "  <tbody>\n",
       "    <tr>\n",
       "      <th>0</th>\n",
       "      <td>50250</td>\n",
       "      <td>Last November, T-Mobile and Sprint confirmed t...</td>\n",
       "      <td>[[15, 23, Bidder], [28, 34, Bidder], [35, 100,...</td>\n",
       "      <td>Merger</td>\n",
       "    </tr>\n",
       "    <tr>\n",
       "      <th>1</th>\n",
       "      <td>50410</td>\n",
       "      <td>A New York regulator revoked Friday its approv...</td>\n",
       "      <td>[[21, 48, terminated], [52, 79, Bidder], [99, ...</td>\n",
       "      <td>Merger</td>\n",
       "    </tr>\n",
       "    <tr>\n",
       "      <th>2</th>\n",
       "      <td>50448</td>\n",
       "      <td>So sad and unfair that the FCC wouldn’t approv...</td>\n",
       "      <td>[[27, 30, Org], [31, 47, terminated], [52, 70,...</td>\n",
       "      <td>Merger</td>\n",
       "    </tr>\n",
       "    <tr>\n",
       "      <th>3</th>\n",
       "      <td>50459</td>\n",
       "      <td>With the HCF tie-up now scrapped, HBF can be e...</td>\n",
       "      <td>[[34, 37, Bidder], [13, 32, terminated], [9, 1...</td>\n",
       "      <td>Merger</td>\n",
       "    </tr>\n",
       "    <tr>\n",
       "      <th>4</th>\n",
       "      <td>50477</td>\n",
       "      <td>Mattel has rejected Hasbros acquisition offers...</td>\n",
       "      <td>[[0, 6, Target], [11, 19, terminated], [20, 27...</td>\n",
       "      <td>Acq</td>\n",
       "    </tr>\n",
       "    <tr>\n",
       "      <th>...</th>\n",
       "      <td>...</td>\n",
       "      <td>...</td>\n",
       "      <td>...</td>\n",
       "      <td>...</td>\n",
       "    </tr>\n",
       "    <tr>\n",
       "      <th>7941</th>\n",
       "      <td>125506</td>\n",
       "      <td>IDFC Bank on Saturday announced it would merge...</td>\n",
       "      <td>[[0, 9, Bidder], [143, 157, Org], [35, 46, exp...</td>\n",
       "      <td>Merger</td>\n",
       "    </tr>\n",
       "    <tr>\n",
       "      <th>7942</th>\n",
       "      <td>125508</td>\n",
       "      <td>PetIQ (Pending: PETQ ) entered into a definiti...</td>\n",
       "      <td>[[0, 5, Bidder], [23, 30, success], [49, 69, s...</td>\n",
       "      <td>Acq</td>\n",
       "    </tr>\n",
       "    <tr>\n",
       "      <th>7943</th>\n",
       "      <td>125509</td>\n",
       "      <td>Anticipating growing demand, Microsoft acquire...</td>\n",
       "      <td>[[29, 38, Bidder], [39, 47, success], [65, 80,...</td>\n",
       "      <td>Acq</td>\n",
       "    </tr>\n",
       "    <tr>\n",
       "      <th>7944</th>\n",
       "      <td>125510</td>\n",
       "      <td>Noida-based RailYatri, India's leading long-di...</td>\n",
       "      <td>[[69, 77, success], [12, 21, Bidder], [130, 13...</td>\n",
       "      <td>Acq</td>\n",
       "    </tr>\n",
       "    <tr>\n",
       "      <th>7945</th>\n",
       "      <td>125511</td>\n",
       "      <td>— LifePoint Health, one of the owners of Conem...</td>\n",
       "      <td>[[66, 76, expecting], [2, 18, Bidder], [82, 10...</td>\n",
       "      <td>Merger</td>\n",
       "    </tr>\n",
       "  </tbody>\n",
       "</table>\n",
       "<p>7946 rows × 4 columns</p>\n",
       "</div>"
      ],
      "text/plain": [
       "          id                                               data  \\\n",
       "0      50250  Last November, T-Mobile and Sprint confirmed t...   \n",
       "1      50410  A New York regulator revoked Friday its approv...   \n",
       "2      50448  So sad and unfair that the FCC wouldn’t approv...   \n",
       "3      50459  With the HCF tie-up now scrapped, HBF can be e...   \n",
       "4      50477  Mattel has rejected Hasbros acquisition offers...   \n",
       "...      ...                                                ...   \n",
       "7941  125506  IDFC Bank on Saturday announced it would merge...   \n",
       "7942  125508  PetIQ (Pending: PETQ ) entered into a definiti...   \n",
       "7943  125509  Anticipating growing demand, Microsoft acquire...   \n",
       "7944  125510  Noida-based RailYatri, India's leading long-di...   \n",
       "7945  125511  — LifePoint Health, one of the owners of Conem...   \n",
       "\n",
       "                                                  label merger_or_acq  \n",
       "0     [[15, 23, Bidder], [28, 34, Bidder], [35, 100,...        Merger  \n",
       "1     [[21, 48, terminated], [52, 79, Bidder], [99, ...        Merger  \n",
       "2     [[27, 30, Org], [31, 47, terminated], [52, 70,...        Merger  \n",
       "3     [[34, 37, Bidder], [13, 32, terminated], [9, 1...        Merger  \n",
       "4     [[0, 6, Target], [11, 19, terminated], [20, 27...           Acq  \n",
       "...                                                 ...           ...  \n",
       "7941  [[0, 9, Bidder], [143, 157, Org], [35, 46, exp...        Merger  \n",
       "7942  [[0, 5, Bidder], [23, 30, success], [49, 69, s...           Acq  \n",
       "7943  [[29, 38, Bidder], [39, 47, success], [65, 80,...           Acq  \n",
       "7944  [[69, 77, success], [12, 21, Bidder], [130, 13...           Acq  \n",
       "7945  [[66, 76, expecting], [2, 18, Bidder], [82, 10...        Merger  \n",
       "\n",
       "[7946 rows x 4 columns]"
      ]
     },
     "execution_count": 73,
     "metadata": {},
     "output_type": "execute_result"
    }
   ],
   "source": [
    "overall_df"
   ]
  },
  {
   "cell_type": "code",
   "execution_count": 74,
   "id": "7edc71a2",
   "metadata": {
    "scrolled": true
   },
   "outputs": [
    {
     "data": {
      "text/plain": [
       "Acq       4199\n",
       "Merger    3742\n",
       "Name: merger_or_acq, dtype: int64"
      ]
     },
     "execution_count": 74,
     "metadata": {},
     "output_type": "execute_result"
    }
   ],
   "source": [
    "overall_df = overall_df[overall_df['merger_or_acq'] != 'None']\n",
    "overall_df['merger_or_acq'].value_counts()"
   ]
  },
  {
   "cell_type": "code",
   "execution_count": 75,
   "id": "66815d12",
   "metadata": {
    "scrolled": true
   },
   "outputs": [
    {
     "data": {
      "text/plain": [
       "False    7527\n",
       "True      414\n",
       "dtype: int64"
      ]
     },
     "execution_count": 75,
     "metadata": {},
     "output_type": "execute_result"
    }
   ],
   "source": [
    "overall_df.duplicated(['data']).value_counts()"
   ]
  },
  {
   "cell_type": "code",
   "execution_count": 76,
   "id": "9d3e2aeb",
   "metadata": {},
   "outputs": [],
   "source": [
    "overall_df[~overall_df.duplicated(['data'])].to_csv('final_annotation_2204.csv', index = False)"
   ]
  },
  {
   "cell_type": "markdown",
   "id": "c3814231",
   "metadata": {},
   "source": [
    "### Token Tagging"
   ]
  },
  {
   "cell_type": "code",
   "execution_count": 77,
   "id": "400f8861",
   "metadata": {},
   "outputs": [],
   "source": [
    "finaldata1.rename(columns={'id': 'id_1', 'label': 'label_1', 'merger_or_acq': 'merger_or_acq_1'}, inplace = True)\n",
    "finaldata2.rename(columns={'id': 'id_2', 'label': 'label_2', 'merger_or_acq': 'merger_or_acq_2'}, inplace = True)\n",
    "finaldata3.rename(columns={'id': 'id_3', 'label': 'label_3', 'merger_or_acq': 'merger_or_acq_3'}, inplace = True)"
   ]
  },
  {
   "cell_type": "code",
   "execution_count": 78,
   "id": "da6a2271",
   "metadata": {},
   "outputs": [],
   "source": [
    "def create_token_tags(sentence, labels):\n",
    "    split = []\n",
    "    j = 0\n",
    "    \n",
    "#     sorted_labels = sorted(ast.literal_eval(labels), key=lambda x: x[0])\n",
    "    sorted_labels = sorted(labels, key=lambda x: x[0])\n",
    "    \n",
    "    for i in sorted_labels:\n",
    "        if i[0] !=0:\n",
    "            # string 1\n",
    "            split.append([(x, 'O') for x in word_tokenize(sentence[j:i[0]])])\n",
    "        # string 2\n",
    "        split.append([(x, i[2]) for x in word_tokenize(sentence[i[0]:i[1]])])\n",
    "        j = i[1]\n",
    "    # string 3\n",
    "    split.append([(x, 'O') for x in word_tokenize(sentence[j:])])\n",
    "    \n",
    "    # flatten list of lists before returning\n",
    "    return [item for sublist in split for item in sublist]"
   ]
  },
  {
   "cell_type": "code",
   "execution_count": 79,
   "id": "89292db5",
   "metadata": {},
   "outputs": [],
   "source": [
    "def compute_token_tags_for_all_sentences(all_sentences, all_labels):\n",
    "    return [create_token_tags(x[0], x[1]) for x in zip(all_sentences, all_labels)]"
   ]
  },
  {
   "cell_type": "code",
   "execution_count": 80,
   "id": "a2c7a2ee",
   "metadata": {},
   "outputs": [],
   "source": [
    "annotated_set1 = compute_token_tags_for_all_sentences(finaldata1['data'], finaldata1['label_1'])\n",
    "annotated_set2 = compute_token_tags_for_all_sentences(finaldata2['data'], finaldata2['label_2'])\n",
    "annotated_set3 = compute_token_tags_for_all_sentences(finaldata3['data'], finaldata3['label_3'])"
   ]
  },
  {
   "cell_type": "code",
   "execution_count": 81,
   "id": "3ab3f11c",
   "metadata": {},
   "outputs": [],
   "source": [
    "finaldata1['token_label_1'] = annotated_set1\n",
    "finaldata2['token_label_2'] = annotated_set2\n",
    "finaldata3['token_label_3'] = annotated_set3"
   ]
  },
  {
   "cell_type": "code",
   "execution_count": 82,
   "id": "14a5d204",
   "metadata": {
    "scrolled": true
   },
   "outputs": [],
   "source": [
    "all_players_df = finaldata1.merge(finaldata2, on='data', how='outer').merge(finaldata3, on='data', how='outer')"
   ]
  },
  {
   "cell_type": "code",
   "execution_count": 83,
   "id": "351dc2ac",
   "metadata": {
    "scrolled": true
   },
   "outputs": [],
   "source": [
    "player_1_2_df = all_players_df[~all_players_df['token_label_1'].isna() & ~all_players_df['token_label_2'].isna() & all_players_df['token_label_3'].isna()]\n",
    "player_1_3_df = all_players_df[~all_players_df['token_label_1'].isna() & all_players_df['token_label_2'].isna() & ~all_players_df['token_label_3'].isna()]\n",
    "player_2_3_df = all_players_df[all_players_df['token_label_1'].isna() & ~all_players_df['token_label_2'].isna() & ~all_players_df['token_label_3'].isna()]\n",
    "player_1_2_3_df = all_players_df[~all_players_df['token_label_1'].isna() & ~all_players_df['token_label_2'].isna() & ~all_players_df['token_label_3'].isna()]"
   ]
  },
  {
   "cell_type": "code",
   "execution_count": 84,
   "id": "c2ac1699",
   "metadata": {},
   "outputs": [],
   "source": [
    "player_1_2_df.reset_index(drop = True, inplace = True)\n",
    "player_1_3_df.reset_index(drop = True, inplace = True)\n",
    "player_2_3_df.reset_index(drop = True, inplace = True)\n",
    "player_1_2_3_df.reset_index(drop = True, inplace = True)"
   ]
  },
  {
   "cell_type": "markdown",
   "id": "5275b558",
   "metadata": {},
   "source": [
    "### Compute the gold labels for three annotations and identify the strongest annotator (IAA for three players)\n",
    "\n",
    "Compute IAA for:\n",
    "- player 1 and 2\n",
    "- player 1 and 3\n",
    "- player 2 and 3\n",
    "- player 1,2, and 3 (the see who has the highest accuracy -- comparing to gold standard)"
   ]
  },
  {
   "cell_type": "code",
   "execution_count": 85,
   "id": "8b099475",
   "metadata": {},
   "outputs": [],
   "source": [
    "from collections import Counter"
   ]
  },
  {
   "cell_type": "code",
   "execution_count": 86,
   "id": "95921b74",
   "metadata": {},
   "outputs": [],
   "source": [
    "def compute_gold_standards_for_three_annotations(label_1, label_2, label_3):\n",
    "    gold_labels = []\n",
    "    voting = []\n",
    "    for i in range(len(label_1)):\n",
    "        labels = Counter([label_1[i][1], label_2[i][1], label_3[i][1]]).most_common()\n",
    "        gold_labels.append((label_1[i][0], labels[0][0]))\n",
    "        voting.append(labels)\n",
    "    \n",
    "    return gold_labels\n",
    "#     return (gold_labels, voting)"
   ]
  },
  {
   "cell_type": "code",
   "execution_count": 87,
   "id": "f297923b",
   "metadata": {},
   "outputs": [],
   "source": [
    "def check_n_compute_gold_standards_for_three_annotations(label_1, label_2, label_3):\n",
    "    if not len(label_1) == len(label_2) == len(label_3):\n",
    "        return ('Not same length', False)\n",
    "    \n",
    "    for i in range(len(label_1)):\n",
    "        if not label_1[i][0] == label_2[i][0] == label_3[i][0]:\n",
    "            return ('Token index %s doesn\\'t match' % str(i), False)\n",
    "    \n",
    "    return compute_gold_standards_for_three_annotations(label_1, label_2, label_3)"
   ]
  },
  {
   "cell_type": "code",
   "execution_count": 88,
   "id": "8ba0fda4",
   "metadata": {},
   "outputs": [],
   "source": [
    "res = []\n",
    "for i in range(len(player_1_2_3_df)):\n",
    "    res.append(check_n_compute_gold_standards_for_three_annotations(player_1_2_3_df['token_label_1'][i], player_1_2_3_df['token_label_2'][i], player_1_2_3_df['token_label_3'][i]))"
   ]
  },
  {
   "cell_type": "code",
   "execution_count": 89,
   "id": "bc86de3b",
   "metadata": {},
   "outputs": [
    {
     "name": "stderr",
     "output_type": "stream",
     "text": [
      "<ipython-input-89-2520452f017f>:1: SettingWithCopyWarning: \n",
      "A value is trying to be set on a copy of a slice from a DataFrame.\n",
      "Try using .loc[row_indexer,col_indexer] = value instead\n",
      "\n",
      "See the caveats in the documentation: https://pandas.pydata.org/pandas-docs/stable/user_guide/indexing.html#returning-a-view-versus-a-copy\n",
      "  player_1_2_3_df['gold_token_label'] = res\n"
     ]
    }
   ],
   "source": [
    "player_1_2_3_df['gold_token_label'] = res"
   ]
  },
  {
   "cell_type": "code",
   "execution_count": 90,
   "id": "37ba896d",
   "metadata": {},
   "outputs": [],
   "source": [
    "from statistics import mean\n",
    "from sklearn.metrics import cohen_kappa_score"
   ]
  },
  {
   "cell_type": "code",
   "execution_count": 91,
   "id": "4d6adb3e",
   "metadata": {},
   "outputs": [],
   "source": [
    "def compute_cohen_kappa(label1, label2):\n",
    "    try:\n",
    "        return cohen_kappa_score([i[1] for i in label1], [i[1] for i in label2])\n",
    "    except:\n",
    "        return 0"
   ]
  },
  {
   "cell_type": "code",
   "execution_count": 92,
   "id": "2cfd03e3",
   "metadata": {},
   "outputs": [],
   "source": [
    "kappa_annota1_n_gold = [compute_cohen_kappa(i[0], i[1]) for i in zip(player_1_2_3_df['token_label_1'], player_1_2_3_df['gold_token_label'])]\n",
    "kappa_annota2_n_gold = [compute_cohen_kappa(i[0], i[1]) for i in zip(player_1_2_3_df['token_label_2'], player_1_2_3_df['gold_token_label'])]\n",
    "kappa_annota3_n_gold = [compute_cohen_kappa(i[0], i[1]) for i in zip(player_1_2_3_df['token_label_3'], player_1_2_3_df['gold_token_label'])]"
   ]
  },
  {
   "cell_type": "code",
   "execution_count": 60,
   "id": "d3d1d5f8",
   "metadata": {},
   "outputs": [
    {
     "name": "stdout",
     "output_type": "stream",
     "text": [
      "0.8036023313321872\n",
      "0.8395923805803496\n",
      "0.796243294446743\n"
     ]
    }
   ],
   "source": [
    "print(mean(kappa_annota1_n_gold))\n",
    "print(mean(kappa_annota2_n_gold))\n",
    "print(mean(kappa_annota3_n_gold))"
   ]
  },
  {
   "cell_type": "code",
   "execution_count": 93,
   "id": "b206a067",
   "metadata": {},
   "outputs": [
    {
     "name": "stdout",
     "output_type": "stream",
     "text": [
      "0.796958032757296\n",
      "0.8419886479180644\n",
      "0.8408496980972122\n"
     ]
    }
   ],
   "source": [
    "print(mean(kappa_annota1_n_gold))\n",
    "print(mean(kappa_annota2_n_gold))\n",
    "print(mean(kappa_annota3_n_gold))"
   ]
  },
  {
   "cell_type": "markdown",
   "id": "fc71c56c",
   "metadata": {},
   "source": [
    "### Compute IAA for two players WITH O tags"
   ]
  },
  {
   "cell_type": "code",
   "execution_count": 94,
   "id": "7ca1debf",
   "metadata": {},
   "outputs": [],
   "source": [
    "player_all_1_2_df = all_players_df[~all_players_df['token_label_1'].isna() & ~all_players_df['token_label_2'].isna()]\n",
    "player_all_1_3_df = all_players_df[~all_players_df['token_label_1'].isna() & ~all_players_df['token_label_3'].isna()]\n",
    "player_all_2_3_df = all_players_df[~all_players_df['token_label_2'].isna() & ~all_players_df['token_label_3'].isna()]"
   ]
  },
  {
   "cell_type": "code",
   "execution_count": 95,
   "id": "2f4cbcda",
   "metadata": {},
   "outputs": [],
   "source": [
    "player_all_1_2_df.reset_index(drop = True, inplace = True)\n",
    "player_all_1_3_df.reset_index(drop = True, inplace = True)\n",
    "player_all_2_3_df.reset_index(drop = True, inplace = True)"
   ]
  },
  {
   "cell_type": "code",
   "execution_count": 96,
   "id": "920e316f",
   "metadata": {},
   "outputs": [],
   "source": [
    "kappa_annota1_n_2 = [compute_cohen_kappa(i[0], i[1]) for i in zip(player_all_1_2_df['token_label_1'], player_all_1_2_df['token_label_2'])]\n",
    "kappa_annota1_n_3 = [compute_cohen_kappa(i[0], i[1]) for i in zip(player_all_1_3_df['token_label_1'], player_all_1_3_df['token_label_3'])]\n",
    "kappa_annota2_n_3 = [compute_cohen_kappa(i[0], i[1]) for i in zip(player_all_2_3_df['token_label_2'], player_all_2_3_df['token_label_3'])]"
   ]
  },
  {
   "cell_type": "code",
   "execution_count": 64,
   "id": "de0b24c0",
   "metadata": {},
   "outputs": [
    {
     "name": "stdout",
     "output_type": "stream",
     "text": [
      "0.7002298727264971\n",
      "0.6683351564961786\n",
      "0.7383305715756152\n"
     ]
    }
   ],
   "source": [
    "print(mean(kappa_annota1_n_2))\n",
    "print(mean(kappa_annota1_n_3))\n",
    "print(mean(kappa_annota2_n_3))"
   ]
  },
  {
   "cell_type": "code",
   "execution_count": 97,
   "id": "182ccfc8",
   "metadata": {
    "scrolled": true
   },
   "outputs": [
    {
     "name": "stdout",
     "output_type": "stream",
     "text": [
      "0.74771539834382\n",
      "0.7487014720864019\n",
      "0.8013310168406973\n"
     ]
    }
   ],
   "source": [
    "print(mean(kappa_annota1_n_2))\n",
    "print(mean(kappa_annota1_n_3))\n",
    "print(mean(kappa_annota2_n_3))"
   ]
  },
  {
   "cell_type": "markdown",
   "id": "35e6d25b",
   "metadata": {},
   "source": [
    "### Compute IAA gold standard WITHOUT the O tags (just entity tags)"
   ]
  },
  {
   "cell_type": "code",
   "execution_count": 98,
   "id": "870ee2ae",
   "metadata": {},
   "outputs": [],
   "source": [
    "def only_have_entity_tags(label_1, label_2):    \n",
    "    just_entity_tags_label1 = []\n",
    "    just_entity_tags_label2 = []\n",
    "    for i in range(len(label_1)):    \n",
    "        counter = Counter([label_1[i][1], label_2[i][1]])\n",
    "        counter_keys = counter.keys()\n",
    "        if 'O' in counter_keys and len(counter_keys) == 1: # if it's only O tag, ignore\n",
    "            continue\n",
    "        else:\n",
    "            just_entity_tags_label1.append(label_1[i])\n",
    "            just_entity_tags_label2.append(label_2[i])\n",
    "    \n",
    "    return just_entity_tags_label1, just_entity_tags_label2"
   ]
  },
  {
   "cell_type": "code",
   "execution_count": 99,
   "id": "5a5d2b94",
   "metadata": {},
   "outputs": [],
   "source": [
    "def compute_entity_tags_only(label_1, label_2):\n",
    "    if not len(label_1) == len(label_2):\n",
    "        return -1\n",
    "    \n",
    "    for i in range(len(label_1)):\n",
    "        if not label_1[i][0] == label_2[i][0]:\n",
    "            return -1\n",
    "    \n",
    "    return only_have_entity_tags(label_1, label_2)"
   ]
  },
  {
   "cell_type": "code",
   "execution_count": 100,
   "id": "047b9f98",
   "metadata": {},
   "outputs": [],
   "source": [
    "def compute_IAA_with_entity_tags_only(all_label_1, all_label_2):\n",
    "    entity_tags_only = [compute_entity_tags_only(i[0], i[1]) for i in zip(all_label_1, all_label_2)]\n",
    "    filtered_list = list(filter(lambda a: a != -1, entity_tags_only)) # remove noise mismatch labels\n",
    "    \n",
    "    return [compute_cohen_kappa(i[0], i[1]) for i in filtered_list]"
   ]
  },
  {
   "cell_type": "code",
   "execution_count": 101,
   "id": "49a2945f",
   "metadata": {},
   "outputs": [],
   "source": [
    "kappa_annota1_n_gold_entity_tags_only = compute_IAA_with_entity_tags_only(player_1_2_3_df['token_label_1'], player_1_2_3_df['gold_token_label'])\n",
    "kappa_annota2_n_gold_entity_tags_only = compute_IAA_with_entity_tags_only(player_1_2_3_df['token_label_2'], player_1_2_3_df['gold_token_label'])\n",
    "kappa_annota3_n_gold_entity_tags_only = compute_IAA_with_entity_tags_only(player_1_2_3_df['token_label_3'], player_1_2_3_df['gold_token_label'])"
   ]
  },
  {
   "cell_type": "code",
   "execution_count": 653,
   "id": "287641a3",
   "metadata": {},
   "outputs": [
    {
     "name": "stdout",
     "output_type": "stream",
     "text": [
      "0.7228285193512535\n",
      "0.7970602315930029\n",
      "0.7022182467164059\n"
     ]
    }
   ],
   "source": [
    "print(mean(kappa_annota1_n_gold_entity_tags_only))\n",
    "print(mean(kappa_annota2_n_gold_entity_tags_only))\n",
    "print(mean(kappa_annota3_n_gold_entity_tags_only))"
   ]
  },
  {
   "cell_type": "code",
   "execution_count": 102,
   "id": "e5ebabce",
   "metadata": {},
   "outputs": [
    {
     "name": "stdout",
     "output_type": "stream",
     "text": [
      "0.7475451364881694\n",
      "0.8327699425016619\n",
      "0.8184519033535972\n"
     ]
    }
   ],
   "source": [
    "print(mean(kappa_annota1_n_gold_entity_tags_only))\n",
    "print(mean(kappa_annota2_n_gold_entity_tags_only))\n",
    "print(mean(kappa_annota3_n_gold_entity_tags_only))"
   ]
  },
  {
   "cell_type": "markdown",
   "id": "80076ed1",
   "metadata": {},
   "source": [
    "### Compute IAA for two players WITHOUT the O tags (just entity tags)"
   ]
  },
  {
   "cell_type": "code",
   "execution_count": 103,
   "id": "ff75ed1d",
   "metadata": {},
   "outputs": [],
   "source": [
    "kappa_annota1_n_2_entity_tags_only = compute_IAA_with_entity_tags_only(player_all_1_2_df['token_label_1'], player_all_1_2_df['token_label_2'])\n",
    "kappa_annota1_n_3_entity_tags_only = compute_IAA_with_entity_tags_only(player_all_1_3_df['token_label_1'], player_all_1_3_df['token_label_3'])\n",
    "kappa_annota2_n_3_entity_tags_only = compute_IAA_with_entity_tags_only(player_all_2_3_df['token_label_2'], player_all_2_3_df['token_label_3'])"
   ]
  },
  {
   "cell_type": "code",
   "execution_count": 649,
   "id": "c3b7aa6a",
   "metadata": {},
   "outputs": [
    {
     "name": "stdout",
     "output_type": "stream",
     "text": [
      "0.5619722870734613\n",
      "0.49181806141698353\n",
      "0.5790717885822338\n"
     ]
    }
   ],
   "source": [
    "print(mean(kappa_annota1_n_2_entity_tags_only))\n",
    "print(mean(kappa_annota1_n_3_entity_tags_only))\n",
    "print(mean(kappa_annota2_n_3_entity_tags_only))"
   ]
  },
  {
   "cell_type": "code",
   "execution_count": 104,
   "id": "92b94ccd",
   "metadata": {},
   "outputs": [
    {
     "name": "stdout",
     "output_type": "stream",
     "text": [
      "0.6274045578947653\n",
      "0.6059654838261579\n",
      "0.6891430747010684\n"
     ]
    }
   ],
   "source": [
    "print(mean(kappa_annota1_n_2_entity_tags_only))\n",
    "print(mean(kappa_annota1_n_3_entity_tags_only))\n",
    "print(mean(kappa_annota2_n_3_entity_tags_only))"
   ]
  },
  {
   "cell_type": "markdown",
   "id": "4bfff598",
   "metadata": {},
   "source": [
    "### Compute the gold labels for two annotations\n",
    "\n",
    "When in dispute between two annotators, bias towards entities (than O tags) and if two entities different, bias towards the annotator with the higher IAA"
   ]
  },
  {
   "cell_type": "code",
   "execution_count": 105,
   "id": "9f63fb9b",
   "metadata": {},
   "outputs": [],
   "source": [
    "def compute_gold_standards_for_two_annotations(label_1, label_2, dominant_player):\n",
    "    gold_labels = []\n",
    "    voting = []\n",
    "    for i in range(len(label_1)):\n",
    "        counter = Counter([label_1[i][1], label_2[i][1]])\n",
    "        labels = counter.most_common()\n",
    "        tag, count = labels[0][0], labels[0][1]\n",
    "        \n",
    "        if count == 1:\n",
    "            if not 'O' in counter.keys():\n",
    "                gold_labels.append((label_1[i][0], labels[dominant_player - 1][0]))\n",
    "            else:\n",
    "                if tag == 'O':\n",
    "                    tag2, count2 = labels[1][0], labels[1][1]\n",
    "                    gold_labels.append((label_1[i][0], tag2))\n",
    "                else:\n",
    "                    gold_labels.append((label_1[i][0], tag))\n",
    "        elif count == 2:\n",
    "            gold_labels.append((label_1[i][0], tag))\n",
    "        voting.append(labels)\n",
    "    \n",
    "    return gold_labels\n",
    "#     return (gold_labels, voting)"
   ]
  },
  {
   "cell_type": "code",
   "execution_count": 106,
   "id": "84e2fa43",
   "metadata": {},
   "outputs": [],
   "source": [
    "def check_n_compute_gold_standards_for_two_annotations(label_1, label_2, dominant_player):\n",
    "    if not len(label_1) == len(label_2):\n",
    "        return ('Not same length', False)\n",
    "    \n",
    "    for i in range(len(label_1)):\n",
    "        if not label_1[i][0] == label_2[i][0]:\n",
    "            return ('Token index %s doesn\\'t match' % str(i), False)\n",
    "    \n",
    "    return compute_gold_standards_for_two_annotations(label_1, label_2, dominant_player)"
   ]
  },
  {
   "cell_type": "code",
   "execution_count": 107,
   "id": "ba944e21",
   "metadata": {},
   "outputs": [
    {
     "name": "stderr",
     "output_type": "stream",
     "text": [
      "<ipython-input-107-9cf735314d92>:5: SettingWithCopyWarning: \n",
      "A value is trying to be set on a copy of a slice from a DataFrame.\n",
      "Try using .loc[row_indexer,col_indexer] = value instead\n",
      "\n",
      "See the caveats in the documentation: https://pandas.pydata.org/pandas-docs/stable/user_guide/indexing.html#returning-a-view-versus-a-copy\n",
      "  player_1_2_df['gold_token_label'] = res\n"
     ]
    }
   ],
   "source": [
    "res = []\n",
    "dominant_player = 2\n",
    "for i in range(len(player_1_2_df)):\n",
    "    res.append(check_n_compute_gold_standards_for_two_annotations(player_1_2_df['token_label_1'][i], player_1_2_df['token_label_2'][i], dominant_player))\n",
    "player_1_2_df['gold_token_label'] = res"
   ]
  },
  {
   "cell_type": "code",
   "execution_count": 108,
   "id": "4c3b5695",
   "metadata": {},
   "outputs": [
    {
     "name": "stderr",
     "output_type": "stream",
     "text": [
      "<ipython-input-108-ae240b9e336e>:5: SettingWithCopyWarning: \n",
      "A value is trying to be set on a copy of a slice from a DataFrame.\n",
      "Try using .loc[row_indexer,col_indexer] = value instead\n",
      "\n",
      "See the caveats in the documentation: https://pandas.pydata.org/pandas-docs/stable/user_guide/indexing.html#returning-a-view-versus-a-copy\n",
      "  player_1_3_df['gold_token_label'] = res\n"
     ]
    }
   ],
   "source": [
    "res = []\n",
    "dominant_player = 2\n",
    "for i in range(len(player_1_3_df)):\n",
    "    res.append(check_n_compute_gold_standards_for_two_annotations(player_1_3_df['token_label_1'][i], player_1_3_df['token_label_3'][i], dominant_player))\n",
    "player_1_3_df['gold_token_label'] = res"
   ]
  },
  {
   "cell_type": "code",
   "execution_count": 109,
   "id": "8885540b",
   "metadata": {},
   "outputs": [
    {
     "name": "stderr",
     "output_type": "stream",
     "text": [
      "<ipython-input-109-0719782ff07c>:5: SettingWithCopyWarning: \n",
      "A value is trying to be set on a copy of a slice from a DataFrame.\n",
      "Try using .loc[row_indexer,col_indexer] = value instead\n",
      "\n",
      "See the caveats in the documentation: https://pandas.pydata.org/pandas-docs/stable/user_guide/indexing.html#returning-a-view-versus-a-copy\n",
      "  player_2_3_df['gold_token_label'] = res\n"
     ]
    }
   ],
   "source": [
    "res = []\n",
    "dominant_player = 1 # first player between player 2 and player 3 (therefore player 2)\n",
    "for i in range(len(player_2_3_df)):\n",
    "    res.append(check_n_compute_gold_standards_for_two_annotations(player_2_3_df['token_label_2'][i], player_2_3_df['token_label_3'][i], dominant_player))\n",
    "player_2_3_df['gold_token_label'] = res"
   ]
  },
  {
   "cell_type": "markdown",
   "id": "243f16ba",
   "metadata": {},
   "source": [
    "### Reconstruct the all_players_df and create final gold token labels"
   ]
  },
  {
   "cell_type": "code",
   "execution_count": 110,
   "id": "02ed7fcf",
   "metadata": {},
   "outputs": [],
   "source": [
    "player_1_df = all_players_df[~all_players_df['token_label_1'].isna() & all_players_df['token_label_2'].isna() & all_players_df['token_label_3'].isna()]\n",
    "player_2_df = all_players_df[all_players_df['token_label_1'].isna() & ~all_players_df['token_label_2'].isna() & all_players_df['token_label_3'].isna()]\n",
    "player_3_df = all_players_df[all_players_df['token_label_1'].isna() & all_players_df['token_label_2'].isna() & ~all_players_df['token_label_3'].isna()]"
   ]
  },
  {
   "cell_type": "code",
   "execution_count": 111,
   "id": "5bbbe873",
   "metadata": {},
   "outputs": [
    {
     "name": "stderr",
     "output_type": "stream",
     "text": [
      "<ipython-input-111-2f5c41495bdc>:1: SettingWithCopyWarning: \n",
      "A value is trying to be set on a copy of a slice from a DataFrame.\n",
      "Try using .loc[row_indexer,col_indexer] = value instead\n",
      "\n",
      "See the caveats in the documentation: https://pandas.pydata.org/pandas-docs/stable/user_guide/indexing.html#returning-a-view-versus-a-copy\n",
      "  player_1_df['gold_token_label'] = player_1_df['token_label_1']\n",
      "<ipython-input-111-2f5c41495bdc>:2: SettingWithCopyWarning: \n",
      "A value is trying to be set on a copy of a slice from a DataFrame.\n",
      "Try using .loc[row_indexer,col_indexer] = value instead\n",
      "\n",
      "See the caveats in the documentation: https://pandas.pydata.org/pandas-docs/stable/user_guide/indexing.html#returning-a-view-versus-a-copy\n",
      "  player_2_df['gold_token_label'] = player_2_df['token_label_2']\n",
      "<ipython-input-111-2f5c41495bdc>:3: SettingWithCopyWarning: \n",
      "A value is trying to be set on a copy of a slice from a DataFrame.\n",
      "Try using .loc[row_indexer,col_indexer] = value instead\n",
      "\n",
      "See the caveats in the documentation: https://pandas.pydata.org/pandas-docs/stable/user_guide/indexing.html#returning-a-view-versus-a-copy\n",
      "  player_3_df['gold_token_label'] = player_3_df['token_label_3']\n"
     ]
    }
   ],
   "source": [
    "player_1_df['gold_token_label'] = player_1_df['token_label_1']\n",
    "player_2_df['gold_token_label'] = player_2_df['token_label_2']\n",
    "player_3_df['gold_token_label'] = player_3_df['token_label_3']"
   ]
  },
  {
   "cell_type": "code",
   "execution_count": 112,
   "id": "f7b1b0c1",
   "metadata": {},
   "outputs": [],
   "source": [
    "new_df = pd.concat([player_1_df, player_2_df, player_3_df, player_1_2_df, player_1_3_df, player_2_3_df, player_1_2_3_df])\n",
    "new_df.reset_index(drop = True, inplace = True)"
   ]
  },
  {
   "cell_type": "code",
   "execution_count": 113,
   "id": "75b0e95d",
   "metadata": {},
   "outputs": [],
   "source": [
    "new_df['data'] = new_df['data'].apply(lambda x: x.replace('\\r', ''))"
   ]
  },
  {
   "cell_type": "code",
   "execution_count": 114,
   "id": "7ad0060a",
   "metadata": {
    "scrolled": true
   },
   "outputs": [
    {
     "data": {
      "text/html": [
       "<div>\n",
       "<style scoped>\n",
       "    .dataframe tbody tr th:only-of-type {\n",
       "        vertical-align: middle;\n",
       "    }\n",
       "\n",
       "    .dataframe tbody tr th {\n",
       "        vertical-align: top;\n",
       "    }\n",
       "\n",
       "    .dataframe thead th {\n",
       "        text-align: right;\n",
       "    }\n",
       "</style>\n",
       "<table border=\"1\" class=\"dataframe\">\n",
       "  <thead>\n",
       "    <tr style=\"text-align: right;\">\n",
       "      <th></th>\n",
       "      <th>id_1</th>\n",
       "      <th>data</th>\n",
       "      <th>label_1</th>\n",
       "      <th>merger_or_acq_1</th>\n",
       "      <th>token_label_1</th>\n",
       "      <th>id_2</th>\n",
       "      <th>label_2</th>\n",
       "      <th>merger_or_acq_2</th>\n",
       "      <th>token_label_2</th>\n",
       "      <th>id_3</th>\n",
       "      <th>label_3</th>\n",
       "      <th>merger_or_acq_3</th>\n",
       "      <th>token_label_3</th>\n",
       "      <th>gold_token_label</th>\n",
       "    </tr>\n",
       "  </thead>\n",
       "  <tbody>\n",
       "    <tr>\n",
       "      <th>0</th>\n",
       "      <td>50250.0</td>\n",
       "      <td>Last November, T-Mobile and Sprint confirmed t...</td>\n",
       "      <td>[[15, 23, Bidder], [28, 34, Bidder], [35, 100,...</td>\n",
       "      <td>Merger</td>\n",
       "      <td>[(Last, O), (November, O), (,, O), (T-Mobile, ...</td>\n",
       "      <td>NaN</td>\n",
       "      <td>NaN</td>\n",
       "      <td>NaN</td>\n",
       "      <td>NaN</td>\n",
       "      <td>NaN</td>\n",
       "      <td>NaN</td>\n",
       "      <td>NaN</td>\n",
       "      <td>NaN</td>\n",
       "      <td>[(Last, O), (November, O), (,, O), (T-Mobile, ...</td>\n",
       "    </tr>\n",
       "    <tr>\n",
       "      <th>1</th>\n",
       "      <td>50410.0</td>\n",
       "      <td>A New York regulator revoked Friday its approv...</td>\n",
       "      <td>[[21, 48, terminated], [52, 79, Bidder], [99, ...</td>\n",
       "      <td>Merger</td>\n",
       "      <td>[(A, O), (New, O), (York, O), (regulator, O), ...</td>\n",
       "      <td>NaN</td>\n",
       "      <td>NaN</td>\n",
       "      <td>NaN</td>\n",
       "      <td>NaN</td>\n",
       "      <td>NaN</td>\n",
       "      <td>NaN</td>\n",
       "      <td>NaN</td>\n",
       "      <td>NaN</td>\n",
       "      <td>[(A, O), (New, O), (York, O), (regulator, O), ...</td>\n",
       "    </tr>\n",
       "    <tr>\n",
       "      <th>2</th>\n",
       "      <td>50459.0</td>\n",
       "      <td>With the HCF tie-up now scrapped, HBF can be e...</td>\n",
       "      <td>[[34, 37, Bidder], [13, 32, terminated], [9, 1...</td>\n",
       "      <td>Merger</td>\n",
       "      <td>[(With, O), (the, O), (HCF, Bidder), (tie-up, ...</td>\n",
       "      <td>NaN</td>\n",
       "      <td>NaN</td>\n",
       "      <td>NaN</td>\n",
       "      <td>NaN</td>\n",
       "      <td>NaN</td>\n",
       "      <td>NaN</td>\n",
       "      <td>NaN</td>\n",
       "      <td>NaN</td>\n",
       "      <td>[(With, O), (the, O), (HCF, Bidder), (tie-up, ...</td>\n",
       "    </tr>\n",
       "    <tr>\n",
       "      <th>3</th>\n",
       "      <td>50477.0</td>\n",
       "      <td>Mattel has rejected Hasbros acquisition offers...</td>\n",
       "      <td>[[0, 6, Target], [11, 19, terminated], [20, 27...</td>\n",
       "      <td>Acq</td>\n",
       "      <td>[(Mattel, Target), (has, O), (rejected, termin...</td>\n",
       "      <td>NaN</td>\n",
       "      <td>NaN</td>\n",
       "      <td>NaN</td>\n",
       "      <td>NaN</td>\n",
       "      <td>NaN</td>\n",
       "      <td>NaN</td>\n",
       "      <td>NaN</td>\n",
       "      <td>NaN</td>\n",
       "      <td>[(Mattel, Target), (has, O), (rejected, termin...</td>\n",
       "    </tr>\n",
       "    <tr>\n",
       "      <th>4</th>\n",
       "      <td>50503.0</td>\n",
       "      <td>In terminating its merger agreement, Tribune o...</td>\n",
       "      <td>[[37, 44, Bidder], [70, 78, Bidder], [0, 35, t...</td>\n",
       "      <td>Merger</td>\n",
       "      <td>[(In, terminated), (terminating, terminated), ...</td>\n",
       "      <td>NaN</td>\n",
       "      <td>NaN</td>\n",
       "      <td>NaN</td>\n",
       "      <td>NaN</td>\n",
       "      <td>NaN</td>\n",
       "      <td>NaN</td>\n",
       "      <td>NaN</td>\n",
       "      <td>NaN</td>\n",
       "      <td>[(In, terminated), (terminating, terminated), ...</td>\n",
       "    </tr>\n",
       "    <tr>\n",
       "      <th>...</th>\n",
       "      <td>...</td>\n",
       "      <td>...</td>\n",
       "      <td>...</td>\n",
       "      <td>...</td>\n",
       "      <td>...</td>\n",
       "      <td>...</td>\n",
       "      <td>...</td>\n",
       "      <td>...</td>\n",
       "      <td>...</td>\n",
       "      <td>...</td>\n",
       "      <td>...</td>\n",
       "      <td>...</td>\n",
       "      <td>...</td>\n",
       "      <td>...</td>\n",
       "    </tr>\n",
       "    <tr>\n",
       "      <th>7527</th>\n",
       "      <td>121955.0</td>\n",
       "      <td>Google acquired Cambridge-based startup Redux ...</td>\n",
       "      <td>[[0, 6, Bidder], [7, 15, success], [40, 48, Ta...</td>\n",
       "      <td>Acq</td>\n",
       "      <td>[(Google, Bidder), (acquired, success), (Cambr...</td>\n",
       "      <td>123366.0</td>\n",
       "      <td>[[0, 6, Bidder], [7, 15, success], [40, 45, Ta...</td>\n",
       "      <td>Acq</td>\n",
       "      <td>[(Google, Bidder), (acquired, success), (Cambr...</td>\n",
       "      <td>125430.0</td>\n",
       "      <td>[[0, 6, Bidder], [7, 15, success], [40, 48, Ta...</td>\n",
       "      <td>Acq</td>\n",
       "      <td>[(Google, Bidder), (acquired, success), (Cambr...</td>\n",
       "      <td>[(Google, Bidder), (acquired, success), (Cambr...</td>\n",
       "    </tr>\n",
       "    <tr>\n",
       "      <th>7528</th>\n",
       "      <td>121956.0</td>\n",
       "      <td>Facebook is reportedly acquiring London-based ...</td>\n",
       "      <td>[[0, 8, Bidder], [54, 67, Target], [23, 32, ex...</td>\n",
       "      <td>Acq</td>\n",
       "      <td>[(Facebook, Bidder), (is, O), (reportedly, O),...</td>\n",
       "      <td>123404.0</td>\n",
       "      <td>[[0, 8, Bidder], [54, 67, Target], [12, 32, ex...</td>\n",
       "      <td>Acq</td>\n",
       "      <td>[(Facebook, Bidder), (is, O), (reportedly, exp...</td>\n",
       "      <td>125202.0</td>\n",
       "      <td>[[0, 8, Bidder], [23, 32, expecting], [54, 67,...</td>\n",
       "      <td>Acq</td>\n",
       "      <td>[(Facebook, Bidder), (is, O), (reportedly, O),...</td>\n",
       "      <td>[(Facebook, Bidder), (is, O), (reportedly, O),...</td>\n",
       "    </tr>\n",
       "    <tr>\n",
       "      <th>7529</th>\n",
       "      <td>121961.0</td>\n",
       "      <td>Shutterstock A Vancouver company called Buddyb...</td>\n",
       "      <td>[[79, 92, success], [96, 101, Bidder], [0, 12,...</td>\n",
       "      <td>Acq</td>\n",
       "      <td>[(Shutterstock, Org), (A, O), (Vancouver, O), ...</td>\n",
       "      <td>123351.0</td>\n",
       "      <td>[[40, 50, Target], [84, 92, success], [96, 101...</td>\n",
       "      <td>Acq</td>\n",
       "      <td>[(Shutterstock, O), (A, O), (Vancouver, O), (c...</td>\n",
       "      <td>125280.0</td>\n",
       "      <td>[[84, 95, success], [96, 101, Bidder], [0, 12,...</td>\n",
       "      <td>Acq</td>\n",
       "      <td>[(Shutterstock, Org), (A, O), (Vancouver, O), ...</td>\n",
       "      <td>[(Shutterstock, Org), (A, O), (Vancouver, O), ...</td>\n",
       "    </tr>\n",
       "    <tr>\n",
       "      <th>7530</th>\n",
       "      <td>121970.0</td>\n",
       "      <td>Today (Jan. 17), Pernod Ricard announced it ha...</td>\n",
       "      <td>[[44, 56, success], [57, 74, Target], [17, 30,...</td>\n",
       "      <td>Acq</td>\n",
       "      <td>[(Today, O), ((, O), (Jan., O), (17, O), (), O...</td>\n",
       "      <td>123378.0</td>\n",
       "      <td>[[17, 30, Bidder], [48, 56, success], [57, 70,...</td>\n",
       "      <td>Acq</td>\n",
       "      <td>[(Today, O), ((, O), (Jan., O), (17, O), (), O...</td>\n",
       "      <td>125333.0</td>\n",
       "      <td>[[17, 30, Bidder], [48, 56, success], [57, 74,...</td>\n",
       "      <td>Acq</td>\n",
       "      <td>[(Today, O), ((, O), (Jan., O), (17, O), (), O...</td>\n",
       "      <td>[(Today, O), ((, O), (Jan., O), (17, O), (), O...</td>\n",
       "    </tr>\n",
       "    <tr>\n",
       "      <th>7531</th>\n",
       "      <td>121991.0</td>\n",
       "      <td>Secure access vendor Bomgar has acquired ident...</td>\n",
       "      <td>[[28, 40, success], [21, 27, Bidder], [66, 84,...</td>\n",
       "      <td>Acq</td>\n",
       "      <td>[(Secure, O), (access, O), (vendor, O), (Bomga...</td>\n",
       "      <td>123494.0</td>\n",
       "      <td>[[21, 27, Bidder], [32, 40, success], [66, 84,...</td>\n",
       "      <td>Acq</td>\n",
       "      <td>[(Secure, O), (access, O), (vendor, O), (Bomga...</td>\n",
       "      <td>125428.0</td>\n",
       "      <td>[[21, 27, Bidder], [32, 40, success], [66, 84,...</td>\n",
       "      <td>Acq</td>\n",
       "      <td>[(Secure, O), (access, O), (vendor, O), (Bomga...</td>\n",
       "      <td>[(Secure, O), (access, O), (vendor, O), (Bomga...</td>\n",
       "    </tr>\n",
       "  </tbody>\n",
       "</table>\n",
       "<p>7532 rows × 14 columns</p>\n",
       "</div>"
      ],
      "text/plain": [
       "          id_1                                               data  \\\n",
       "0      50250.0  Last November, T-Mobile and Sprint confirmed t...   \n",
       "1      50410.0  A New York regulator revoked Friday its approv...   \n",
       "2      50459.0  With the HCF tie-up now scrapped, HBF can be e...   \n",
       "3      50477.0  Mattel has rejected Hasbros acquisition offers...   \n",
       "4      50503.0  In terminating its merger agreement, Tribune o...   \n",
       "...        ...                                                ...   \n",
       "7527  121955.0  Google acquired Cambridge-based startup Redux ...   \n",
       "7528  121956.0  Facebook is reportedly acquiring London-based ...   \n",
       "7529  121961.0  Shutterstock A Vancouver company called Buddyb...   \n",
       "7530  121970.0  Today (Jan. 17), Pernod Ricard announced it ha...   \n",
       "7531  121991.0  Secure access vendor Bomgar has acquired ident...   \n",
       "\n",
       "                                                label_1 merger_or_acq_1  \\\n",
       "0     [[15, 23, Bidder], [28, 34, Bidder], [35, 100,...          Merger   \n",
       "1     [[21, 48, terminated], [52, 79, Bidder], [99, ...          Merger   \n",
       "2     [[34, 37, Bidder], [13, 32, terminated], [9, 1...          Merger   \n",
       "3     [[0, 6, Target], [11, 19, terminated], [20, 27...             Acq   \n",
       "4     [[37, 44, Bidder], [70, 78, Bidder], [0, 35, t...          Merger   \n",
       "...                                                 ...             ...   \n",
       "7527  [[0, 6, Bidder], [7, 15, success], [40, 48, Ta...             Acq   \n",
       "7528  [[0, 8, Bidder], [54, 67, Target], [23, 32, ex...             Acq   \n",
       "7529  [[79, 92, success], [96, 101, Bidder], [0, 12,...             Acq   \n",
       "7530  [[44, 56, success], [57, 74, Target], [17, 30,...             Acq   \n",
       "7531  [[28, 40, success], [21, 27, Bidder], [66, 84,...             Acq   \n",
       "\n",
       "                                          token_label_1      id_2  \\\n",
       "0     [(Last, O), (November, O), (,, O), (T-Mobile, ...       NaN   \n",
       "1     [(A, O), (New, O), (York, O), (regulator, O), ...       NaN   \n",
       "2     [(With, O), (the, O), (HCF, Bidder), (tie-up, ...       NaN   \n",
       "3     [(Mattel, Target), (has, O), (rejected, termin...       NaN   \n",
       "4     [(In, terminated), (terminating, terminated), ...       NaN   \n",
       "...                                                 ...       ...   \n",
       "7527  [(Google, Bidder), (acquired, success), (Cambr...  123366.0   \n",
       "7528  [(Facebook, Bidder), (is, O), (reportedly, O),...  123404.0   \n",
       "7529  [(Shutterstock, Org), (A, O), (Vancouver, O), ...  123351.0   \n",
       "7530  [(Today, O), ((, O), (Jan., O), (17, O), (), O...  123378.0   \n",
       "7531  [(Secure, O), (access, O), (vendor, O), (Bomga...  123494.0   \n",
       "\n",
       "                                                label_2 merger_or_acq_2  \\\n",
       "0                                                   NaN             NaN   \n",
       "1                                                   NaN             NaN   \n",
       "2                                                   NaN             NaN   \n",
       "3                                                   NaN             NaN   \n",
       "4                                                   NaN             NaN   \n",
       "...                                                 ...             ...   \n",
       "7527  [[0, 6, Bidder], [7, 15, success], [40, 45, Ta...             Acq   \n",
       "7528  [[0, 8, Bidder], [54, 67, Target], [12, 32, ex...             Acq   \n",
       "7529  [[40, 50, Target], [84, 92, success], [96, 101...             Acq   \n",
       "7530  [[17, 30, Bidder], [48, 56, success], [57, 70,...             Acq   \n",
       "7531  [[21, 27, Bidder], [32, 40, success], [66, 84,...             Acq   \n",
       "\n",
       "                                          token_label_2      id_3  \\\n",
       "0                                                   NaN       NaN   \n",
       "1                                                   NaN       NaN   \n",
       "2                                                   NaN       NaN   \n",
       "3                                                   NaN       NaN   \n",
       "4                                                   NaN       NaN   \n",
       "...                                                 ...       ...   \n",
       "7527  [(Google, Bidder), (acquired, success), (Cambr...  125430.0   \n",
       "7528  [(Facebook, Bidder), (is, O), (reportedly, exp...  125202.0   \n",
       "7529  [(Shutterstock, O), (A, O), (Vancouver, O), (c...  125280.0   \n",
       "7530  [(Today, O), ((, O), (Jan., O), (17, O), (), O...  125333.0   \n",
       "7531  [(Secure, O), (access, O), (vendor, O), (Bomga...  125428.0   \n",
       "\n",
       "                                                label_3 merger_or_acq_3  \\\n",
       "0                                                   NaN             NaN   \n",
       "1                                                   NaN             NaN   \n",
       "2                                                   NaN             NaN   \n",
       "3                                                   NaN             NaN   \n",
       "4                                                   NaN             NaN   \n",
       "...                                                 ...             ...   \n",
       "7527  [[0, 6, Bidder], [7, 15, success], [40, 48, Ta...             Acq   \n",
       "7528  [[0, 8, Bidder], [23, 32, expecting], [54, 67,...             Acq   \n",
       "7529  [[84, 95, success], [96, 101, Bidder], [0, 12,...             Acq   \n",
       "7530  [[17, 30, Bidder], [48, 56, success], [57, 74,...             Acq   \n",
       "7531  [[21, 27, Bidder], [32, 40, success], [66, 84,...             Acq   \n",
       "\n",
       "                                          token_label_3  \\\n",
       "0                                                   NaN   \n",
       "1                                                   NaN   \n",
       "2                                                   NaN   \n",
       "3                                                   NaN   \n",
       "4                                                   NaN   \n",
       "...                                                 ...   \n",
       "7527  [(Google, Bidder), (acquired, success), (Cambr...   \n",
       "7528  [(Facebook, Bidder), (is, O), (reportedly, O),...   \n",
       "7529  [(Shutterstock, Org), (A, O), (Vancouver, O), ...   \n",
       "7530  [(Today, O), ((, O), (Jan., O), (17, O), (), O...   \n",
       "7531  [(Secure, O), (access, O), (vendor, O), (Bomga...   \n",
       "\n",
       "                                       gold_token_label  \n",
       "0     [(Last, O), (November, O), (,, O), (T-Mobile, ...  \n",
       "1     [(A, O), (New, O), (York, O), (regulator, O), ...  \n",
       "2     [(With, O), (the, O), (HCF, Bidder), (tie-up, ...  \n",
       "3     [(Mattel, Target), (has, O), (rejected, termin...  \n",
       "4     [(In, terminated), (terminating, terminated), ...  \n",
       "...                                                 ...  \n",
       "7527  [(Google, Bidder), (acquired, success), (Cambr...  \n",
       "7528  [(Facebook, Bidder), (is, O), (reportedly, O),...  \n",
       "7529  [(Shutterstock, Org), (A, O), (Vancouver, O), ...  \n",
       "7530  [(Today, O), ((, O), (Jan., O), (17, O), (), O...  \n",
       "7531  [(Secure, O), (access, O), (vendor, O), (Bomga...  \n",
       "\n",
       "[7532 rows x 14 columns]"
      ]
     },
     "execution_count": 114,
     "metadata": {},
     "output_type": "execute_result"
    }
   ],
   "source": [
    "new_df"
   ]
  },
  {
   "cell_type": "code",
   "execution_count": 115,
   "id": "6b65cefd",
   "metadata": {},
   "outputs": [],
   "source": [
    "new_df.to_csv('gold_label_annotated_data_2204.csv', index = False)"
   ]
  }
 ],
 "metadata": {
  "kernelspec": {
   "display_name": "Python 3 (ipykernel)",
   "language": "python",
   "name": "python3"
  },
  "language_info": {
   "codemirror_mode": {
    "name": "ipython",
    "version": 3
   },
   "file_extension": ".py",
   "mimetype": "text/x-python",
   "name": "python",
   "nbconvert_exporter": "python",
   "pygments_lexer": "ipython3",
   "version": "3.8.8"
  }
 },
 "nbformat": 4,
 "nbformat_minor": 5
}
