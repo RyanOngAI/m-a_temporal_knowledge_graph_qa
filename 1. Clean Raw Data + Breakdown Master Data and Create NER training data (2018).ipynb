{
 "cells": [
  {
   "cell_type": "markdown",
   "id": "ab236e93",
   "metadata": {},
   "source": [
    "### Merge and clean scraped articles from News API"
   ]
  },
  {
   "cell_type": "code",
   "execution_count": 22,
   "id": "ae00c07c",
   "metadata": {},
   "outputs": [],
   "source": [
    "import os\n",
    "import glob\n",
    "import numpy as np\n",
    "import pandas as pd"
   ]
  },
  {
   "cell_type": "code",
   "execution_count": 2,
   "id": "1e100a8d",
   "metadata": {},
   "outputs": [],
   "source": [
    "keywords = ['merger', 'merge', 'merging', 'merged', 'acquisition', 'acquire', 'acquiring', 'acquired']"
   ]
  },
  {
   "cell_type": "code",
   "execution_count": 3,
   "id": "47f5a09f",
   "metadata": {},
   "outputs": [],
   "source": [
    "# use glob to get all the csv files \n",
    "# in the folder\n",
    "path = os.getcwd()\n",
    "csv_files = glob.glob(os.path.join(path, \"*.csv\"))"
   ]
  },
  {
   "cell_type": "code",
   "execution_count": 4,
   "id": "d091e4a6",
   "metadata": {},
   "outputs": [
    {
     "name": "stdout",
     "output_type": "stream",
     "text": [
      "/Users/ryanong/Desktop/M&A_KG/acquire_2021-01-01_2021-06-30.csv\n",
      "/Users/ryanong/Desktop/M&A_KG/acquire_2020-07-01_2020-12-31.csv\n"
     ]
    }
   ],
   "source": [
    "all_df = []\n",
    "for csv_file in csv_files:\n",
    "    try:\n",
    "        all_df.append(pd.read_csv(csv_file))\n",
    "    except:\n",
    "        print(csv_file)\n",
    "        all_df.append(pd.read_csv(csv_file, lineterminator='\\n'))"
   ]
  },
  {
   "cell_type": "code",
   "execution_count": 5,
   "id": "14d51ee0",
   "metadata": {},
   "outputs": [],
   "source": [
    "master_df = pd.concat(all_df)"
   ]
  },
  {
   "cell_type": "code",
   "execution_count": 6,
   "id": "0f58b29b",
   "metadata": {},
   "outputs": [],
   "source": [
    "# remove duplications\n",
    "master_df = master_df[~master_df.duplicated(subset=['title'])]\n",
    "master_df = master_df[~master_df.duplicated(subset=['description'])]\n",
    "master_df = master_df[~master_df.duplicated(subset=['content'])]"
   ]
  },
  {
   "cell_type": "code",
   "execution_count": 7,
   "id": "68dd87a6",
   "metadata": {},
   "outputs": [],
   "source": [
    "master_df.reset_index(drop=True, inplace = True)"
   ]
  },
  {
   "cell_type": "code",
   "execution_count": 8,
   "id": "68cf2c4f",
   "metadata": {
    "scrolled": true
   },
   "outputs": [
    {
     "data": {
      "text/html": [
       "<div>\n",
       "<style scoped>\n",
       "    .dataframe tbody tr th:only-of-type {\n",
       "        vertical-align: middle;\n",
       "    }\n",
       "\n",
       "    .dataframe tbody tr th {\n",
       "        vertical-align: top;\n",
       "    }\n",
       "\n",
       "    .dataframe thead th {\n",
       "        text-align: right;\n",
       "    }\n",
       "</style>\n",
       "<table border=\"1\" class=\"dataframe\">\n",
       "  <thead>\n",
       "    <tr style=\"text-align: right;\">\n",
       "      <th></th>\n",
       "      <th>source</th>\n",
       "      <th>author</th>\n",
       "      <th>title</th>\n",
       "      <th>description</th>\n",
       "      <th>url</th>\n",
       "      <th>urlToImage</th>\n",
       "      <th>publishedAt</th>\n",
       "      <th>content</th>\n",
       "      <th>keywords</th>\n",
       "    </tr>\n",
       "  </thead>\n",
       "  <tbody>\n",
       "    <tr>\n",
       "      <th>0</th>\n",
       "      <td>{'id': 'engadget', 'name': 'Engadget'}</td>\n",
       "      <td>Mariella Moon</td>\n",
       "      <td>Lawmakers urge the FCC to seek public input on...</td>\n",
       "      <td>T-Mobile and Sprint found a powerful ally in F...</td>\n",
       "      <td>https://www.engadget.com/2019/08/17/democratic...</td>\n",
       "      <td>https://o.aolcdn.com/images/dims?thumbnail=120...</td>\n",
       "      <td>2019-08-17T07:28:00Z</td>\n",
       "      <td>The DOJ only endorsed the deal after the carri...</td>\n",
       "      <td>merger</td>\n",
       "    </tr>\n",
       "    <tr>\n",
       "      <th>1</th>\n",
       "      <td>{'id': 'the-verge', 'name': 'The Verge'}</td>\n",
       "      <td>Dieter Bohn</td>\n",
       "      <td>T-Mobile’s latest merger gambit isn’t subtle</td>\n",
       "      <td>T-Mobile is trying to manipulate public opinio...</td>\n",
       "      <td>https://www.theverge.com/2019/11/8/20954479/t-...</td>\n",
       "      <td>https://cdn.vox-cdn.com/thumbor/yak18RxzSLehKa...</td>\n",
       "      <td>2019-11-08T12:00:00Z</td>\n",
       "      <td>John Legere trades a pink t-shirt for a firema...</td>\n",
       "      <td>merger</td>\n",
       "    </tr>\n",
       "    <tr>\n",
       "      <th>2</th>\n",
       "      <td>{'id': 'the-verge', 'name': 'The Verge'}</td>\n",
       "      <td>Andrew Marino</td>\n",
       "      <td>Will the Sprint and T-Mobile merger create com...</td>\n",
       "      <td>Verge editor-in-chief Nilay Patel talks to Gig...</td>\n",
       "      <td>https://www.theverge.com/2019/10/22/20924775/p...</td>\n",
       "      <td>https://cdn.vox-cdn.com/thumbor/SSrEMRaiydxtOS...</td>\n",
       "      <td>2019-10-22T17:01:41Z</td>\n",
       "      <td>Interview with tech policy expert Gigi Sohn\\r\\...</td>\n",
       "      <td>merger</td>\n",
       "    </tr>\n",
       "    <tr>\n",
       "      <th>3</th>\n",
       "      <td>{'id': 'the-verge', 'name': 'The Verge'}</td>\n",
       "      <td>Sean O'Kane</td>\n",
       "      <td>Vizio accuses LeEco of breaching settlement ov...</td>\n",
       "      <td>The television company says LeEco allegedly st...</td>\n",
       "      <td>https://www.theverge.com/2019/12/31/21044504/v...</td>\n",
       "      <td>https://cdn.vox-cdn.com/thumbor/DnNm2wjALdZss0...</td>\n",
       "      <td>2019-12-31T17:28:17Z</td>\n",
       "      <td>LeEco allegedly still owes a substantial amoun...</td>\n",
       "      <td>merger</td>\n",
       "    </tr>\n",
       "    <tr>\n",
       "      <th>4</th>\n",
       "      <td>{'id': 'techcrunch', 'name': 'TechCrunch'}</td>\n",
       "      <td>Sarah Perez</td>\n",
       "      <td>ViacomCBS shakes up its content leadership tea...</td>\n",
       "      <td>Following the merger of CBS and Viacom announc...</td>\n",
       "      <td>http://techcrunch.com/2019/11/11/viacomcbs-sha...</td>\n",
       "      <td>https://techcrunch.com/wp-content/uploads/2019...</td>\n",
       "      <td>2019-11-11T16:32:16Z</td>\n",
       "      <td>Following the merger of CBS and Viacom announc...</td>\n",
       "      <td>merger</td>\n",
       "    </tr>\n",
       "    <tr>\n",
       "      <th>...</th>\n",
       "      <td>...</td>\n",
       "      <td>...</td>\n",
       "      <td>...</td>\n",
       "      <td>...</td>\n",
       "      <td>...</td>\n",
       "      <td>...</td>\n",
       "      <td>...</td>\n",
       "      <td>...</td>\n",
       "      <td>...</td>\n",
       "    </tr>\n",
       "    <tr>\n",
       "      <th>92901</th>\n",
       "      <td>{'id': None, 'name': 'WSOC Charlotte'}</td>\n",
       "      <td>EndPlay</td>\n",
       "      <td>Former Walmart in south Charlotte acquired for...</td>\n",
       "      <td>A former Walmart in south Charlotte has been a...</td>\n",
       "      <td>https://www.wsoctv.com/news/local/former-walma...</td>\n",
       "      <td>https://mediaweb.wsoctv.com/photo/2019/07/13/A...</td>\n",
       "      <td>2019-07-13T17:28:55Z</td>\n",
       "      <td>&lt;ul&gt;&lt;/ul&gt;\\r\\nCHARLOTTE, N.C. - A former Walmar...</td>\n",
       "      <td>acquired</td>\n",
       "    </tr>\n",
       "    <tr>\n",
       "      <th>92902</th>\n",
       "      <td>{'id': None, 'name': 'WSOC Charlotte'}</td>\n",
       "      <td>John Downey</td>\n",
       "      <td>Duke Energy tower under construction in uptown...</td>\n",
       "      <td>Maryland-based CGA Capital has partnered with ...</td>\n",
       "      <td>https://www.wsoctv.com/news/local/duke-energy-...</td>\n",
       "      <td>https://www.wsoctv.com/resizer/6Os_duw0pJVuU5E...</td>\n",
       "      <td>2019-12-25T22:17:11Z</td>\n",
       "      <td>CHARLOTTE, N.C. — Maryland-based CGA Capital h...</td>\n",
       "      <td>acquired</td>\n",
       "    </tr>\n",
       "    <tr>\n",
       "      <th>92903</th>\n",
       "      <td>{'id': None, 'name': 'WCVB Boston'}</td>\n",
       "      <td>NaN</td>\n",
       "      <td>Largest furniture, flooring store in New Engla...</td>\n",
       "      <td>Rotmans is one of the largest independent furn...</td>\n",
       "      <td>https://www.wcvb.com/article/worcester-based-v...</td>\n",
       "      <td>https://kubrick.htvapps.com/htv-prod-media.s3....</td>\n",
       "      <td>2019-07-22T13:23:00Z</td>\n",
       "      <td>WORCESTER, Mass. —The largest furniture and fl...</td>\n",
       "      <td>acquired</td>\n",
       "    </tr>\n",
       "    <tr>\n",
       "      <th>92904</th>\n",
       "      <td>{'id': None, 'name': 'Euronews'}</td>\n",
       "      <td>NaN</td>\n",
       "      <td>Cyprus to strip 26 people of citizenship acqui...</td>\n",
       "      <td>The small Mediterranean island has had a citiz...</td>\n",
       "      <td>https://www.euronews.com/2019/11/08/cyprus-to-...</td>\n",
       "      <td>https://static.euronews.com/articles/stories/0...</td>\n",
       "      <td>2019-11-08T09:59:18Z</td>\n",
       "      <td>Cyprus is to strip 26 people of their golden p...</td>\n",
       "      <td>acquired</td>\n",
       "    </tr>\n",
       "    <tr>\n",
       "      <th>92905</th>\n",
       "      <td>{'id': None, 'name': 'nejm.org'}</td>\n",
       "      <td>NaN</td>\n",
       "      <td>Caplacizumab Therapy without Plasma Exchange f...</td>\n",
       "      <td>To the Editor: Therapeutic plasma exchange has...</td>\n",
       "      <td>https://www.nejm.org/doi/full/10.1056/NEJMc190...</td>\n",
       "      <td>https://www.nejm.org/na101/home/literatum/publ...</td>\n",
       "      <td>2019-07-04T00:00:00Z</td>\n",
       "      <td>Deepak P. Chander, M.D.Michelle M. Loch, M.D.L...</td>\n",
       "      <td>acquired</td>\n",
       "    </tr>\n",
       "  </tbody>\n",
       "</table>\n",
       "<p>92906 rows × 9 columns</p>\n",
       "</div>"
      ],
      "text/plain": [
       "                                           source         author  \\\n",
       "0          {'id': 'engadget', 'name': 'Engadget'}  Mariella Moon   \n",
       "1        {'id': 'the-verge', 'name': 'The Verge'}    Dieter Bohn   \n",
       "2        {'id': 'the-verge', 'name': 'The Verge'}  Andrew Marino   \n",
       "3        {'id': 'the-verge', 'name': 'The Verge'}    Sean O'Kane   \n",
       "4      {'id': 'techcrunch', 'name': 'TechCrunch'}    Sarah Perez   \n",
       "...                                           ...            ...   \n",
       "92901      {'id': None, 'name': 'WSOC Charlotte'}        EndPlay   \n",
       "92902      {'id': None, 'name': 'WSOC Charlotte'}    John Downey   \n",
       "92903         {'id': None, 'name': 'WCVB Boston'}            NaN   \n",
       "92904            {'id': None, 'name': 'Euronews'}            NaN   \n",
       "92905            {'id': None, 'name': 'nejm.org'}            NaN   \n",
       "\n",
       "                                                   title  \\\n",
       "0      Lawmakers urge the FCC to seek public input on...   \n",
       "1           T-Mobile’s latest merger gambit isn’t subtle   \n",
       "2      Will the Sprint and T-Mobile merger create com...   \n",
       "3      Vizio accuses LeEco of breaching settlement ov...   \n",
       "4      ViacomCBS shakes up its content leadership tea...   \n",
       "...                                                  ...   \n",
       "92901  Former Walmart in south Charlotte acquired for...   \n",
       "92902  Duke Energy tower under construction in uptown...   \n",
       "92903  Largest furniture, flooring store in New Engla...   \n",
       "92904  Cyprus to strip 26 people of citizenship acqui...   \n",
       "92905  Caplacizumab Therapy without Plasma Exchange f...   \n",
       "\n",
       "                                             description  \\\n",
       "0      T-Mobile and Sprint found a powerful ally in F...   \n",
       "1      T-Mobile is trying to manipulate public opinio...   \n",
       "2      Verge editor-in-chief Nilay Patel talks to Gig...   \n",
       "3      The television company says LeEco allegedly st...   \n",
       "4      Following the merger of CBS and Viacom announc...   \n",
       "...                                                  ...   \n",
       "92901  A former Walmart in south Charlotte has been a...   \n",
       "92902  Maryland-based CGA Capital has partnered with ...   \n",
       "92903  Rotmans is one of the largest independent furn...   \n",
       "92904  The small Mediterranean island has had a citiz...   \n",
       "92905  To the Editor: Therapeutic plasma exchange has...   \n",
       "\n",
       "                                                     url  \\\n",
       "0      https://www.engadget.com/2019/08/17/democratic...   \n",
       "1      https://www.theverge.com/2019/11/8/20954479/t-...   \n",
       "2      https://www.theverge.com/2019/10/22/20924775/p...   \n",
       "3      https://www.theverge.com/2019/12/31/21044504/v...   \n",
       "4      http://techcrunch.com/2019/11/11/viacomcbs-sha...   \n",
       "...                                                  ...   \n",
       "92901  https://www.wsoctv.com/news/local/former-walma...   \n",
       "92902  https://www.wsoctv.com/news/local/duke-energy-...   \n",
       "92903  https://www.wcvb.com/article/worcester-based-v...   \n",
       "92904  https://www.euronews.com/2019/11/08/cyprus-to-...   \n",
       "92905  https://www.nejm.org/doi/full/10.1056/NEJMc190...   \n",
       "\n",
       "                                              urlToImage  \\\n",
       "0      https://o.aolcdn.com/images/dims?thumbnail=120...   \n",
       "1      https://cdn.vox-cdn.com/thumbor/yak18RxzSLehKa...   \n",
       "2      https://cdn.vox-cdn.com/thumbor/SSrEMRaiydxtOS...   \n",
       "3      https://cdn.vox-cdn.com/thumbor/DnNm2wjALdZss0...   \n",
       "4      https://techcrunch.com/wp-content/uploads/2019...   \n",
       "...                                                  ...   \n",
       "92901  https://mediaweb.wsoctv.com/photo/2019/07/13/A...   \n",
       "92902  https://www.wsoctv.com/resizer/6Os_duw0pJVuU5E...   \n",
       "92903  https://kubrick.htvapps.com/htv-prod-media.s3....   \n",
       "92904  https://static.euronews.com/articles/stories/0...   \n",
       "92905  https://www.nejm.org/na101/home/literatum/publ...   \n",
       "\n",
       "                publishedAt  \\\n",
       "0      2019-08-17T07:28:00Z   \n",
       "1      2019-11-08T12:00:00Z   \n",
       "2      2019-10-22T17:01:41Z   \n",
       "3      2019-12-31T17:28:17Z   \n",
       "4      2019-11-11T16:32:16Z   \n",
       "...                     ...   \n",
       "92901  2019-07-13T17:28:55Z   \n",
       "92902  2019-12-25T22:17:11Z   \n",
       "92903  2019-07-22T13:23:00Z   \n",
       "92904  2019-11-08T09:59:18Z   \n",
       "92905  2019-07-04T00:00:00Z   \n",
       "\n",
       "                                                 content  keywords  \n",
       "0      The DOJ only endorsed the deal after the carri...    merger  \n",
       "1      John Legere trades a pink t-shirt for a firema...    merger  \n",
       "2      Interview with tech policy expert Gigi Sohn\\r\\...    merger  \n",
       "3      LeEco allegedly still owes a substantial amoun...    merger  \n",
       "4      Following the merger of CBS and Viacom announc...    merger  \n",
       "...                                                  ...       ...  \n",
       "92901  <ul></ul>\\r\\nCHARLOTTE, N.C. - A former Walmar...  acquired  \n",
       "92902  CHARLOTTE, N.C. — Maryland-based CGA Capital h...  acquired  \n",
       "92903  WORCESTER, Mass. —The largest furniture and fl...  acquired  \n",
       "92904  Cyprus is to strip 26 people of their golden p...  acquired  \n",
       "92905  Deepak P. Chander, M.D.Michelle M. Loch, M.D.L...  acquired  \n",
       "\n",
       "[92906 rows x 9 columns]"
      ]
     },
     "execution_count": 8,
     "metadata": {},
     "output_type": "execute_result"
    }
   ],
   "source": [
    "master_df"
   ]
  },
  {
   "cell_type": "code",
   "execution_count": 9,
   "id": "6bb5e968",
   "metadata": {},
   "outputs": [
    {
     "data": {
      "text/plain": [
       "acquisition    30187\n",
       "merger         22483\n",
       "acquire        20910\n",
       "merge           6757\n",
       "acquired        6588\n",
       "acquiring       2761\n",
       "merging         2038\n",
       "merged          1182\n",
       "Name: keywords, dtype: int64"
      ]
     },
     "execution_count": 9,
     "metadata": {},
     "output_type": "execute_result"
    }
   ],
   "source": [
    "master_df['keywords'].value_counts()"
   ]
  },
  {
   "cell_type": "code",
   "execution_count": 22,
   "id": "11d38e03",
   "metadata": {},
   "outputs": [],
   "source": [
    "from datetime import datetime\n",
    "from segtok.segmenter import split_single"
   ]
  },
  {
   "cell_type": "code",
   "execution_count": 12,
   "id": "7df7c498",
   "metadata": {},
   "outputs": [],
   "source": [
    "master_df['date_obj'] = master_df['publishedAt'].apply(lambda x: datetime.fromisoformat(x[:-1]))"
   ]
  },
  {
   "cell_type": "code",
   "execution_count": 13,
   "id": "a71cced2",
   "metadata": {},
   "outputs": [],
   "source": [
    "master_df['year'] = master_df['date_obj'].apply(lambda x: x.year)\n",
    "master_df['month'] = master_df['date_obj'].apply(lambda x: x.month)"
   ]
  },
  {
   "cell_type": "code",
   "execution_count": 73,
   "id": "907125d7",
   "metadata": {},
   "outputs": [],
   "source": [
    "master_df.sort_values(by='date_obj', inplace = True)\n",
    "master_df.reset_index(drop = True, inplace = True)"
   ]
  },
  {
   "cell_type": "code",
   "execution_count": 83,
   "id": "e1cc4664",
   "metadata": {},
   "outputs": [],
   "source": [
    "def extract_key_sentences(content, keyword):\n",
    "    try:\n",
    "        sentences = [(sent, keyword) for sent in split_single(content) if keyword in sent]\n",
    "    except:\n",
    "        return None\n",
    "    return sentences"
   ]
  },
  {
   "cell_type": "code",
   "execution_count": 84,
   "id": "d7961c55",
   "metadata": {},
   "outputs": [],
   "source": [
    "master_df['key_sentences'] = master_df.apply(lambda x: extract_key_sentences(x['content'], x['keywords']), axis = 1)"
   ]
  },
  {
   "cell_type": "code",
   "execution_count": 134,
   "id": "c214ae65",
   "metadata": {
    "scrolled": true
   },
   "outputs": [],
   "source": [
    "master_df = master_df[master_df['key_sentences'].str.len() != 0]\n",
    "master_df.dropna(inplace = True)\n",
    "master_df.reset_index(drop = False, inplace = True)"
   ]
  },
  {
   "cell_type": "code",
   "execution_count": 135,
   "id": "861ff003",
   "metadata": {
    "scrolled": true
   },
   "outputs": [
    {
     "data": {
      "text/plain": [
       "2018    16750\n",
       "2019    14448\n",
       "2020    13480\n",
       "2021     9008\n",
       "Name: year, dtype: int64"
      ]
     },
     "execution_count": 135,
     "metadata": {},
     "output_type": "execute_result"
    }
   ],
   "source": [
    "master_df['year'].value_counts()"
   ]
  },
  {
   "cell_type": "code",
   "execution_count": 137,
   "id": "62d9d97d",
   "metadata": {},
   "outputs": [],
   "source": [
    "master_df['key_sentences'] = master_df.apply(lambda x: [tuple([x['index']]+list(tup)) for tup in x['key_sentences']], axis = 1)"
   ]
  },
  {
   "cell_type": "code",
   "execution_count": 153,
   "id": "55ea6712",
   "metadata": {},
   "outputs": [
    {
     "data": {
      "text/plain": [
       "acquisition    16809\n",
       "merger         15669\n",
       "acquire        11655\n",
       "merge           3881\n",
       "acquired        3630\n",
       "acquiring        975\n",
       "merging          658\n",
       "merged           409\n",
       "Name: keywords, dtype: int64"
      ]
     },
     "execution_count": 153,
     "metadata": {},
     "output_type": "execute_result"
    }
   ],
   "source": [
    "master_df['keywords'].value_counts()"
   ]
  },
  {
   "cell_type": "code",
   "execution_count": 139,
   "id": "9b5d5af9",
   "metadata": {
    "scrolled": true
   },
   "outputs": [],
   "source": [
    "master_df.to_csv('master_data.csv', index = False)"
   ]
  },
  {
   "cell_type": "markdown",
   "id": "ef6b5549",
   "metadata": {},
   "source": [
    "### Breakdown master_data into years & articles and sentences level"
   ]
  },
  {
   "cell_type": "code",
   "execution_count": 20,
   "id": "1d6e1e35",
   "metadata": {},
   "outputs": [],
   "source": [
    "import ast\n",
    "import pandas as pd"
   ]
  },
  {
   "cell_type": "code",
   "execution_count": 2,
   "id": "a296aa0f",
   "metadata": {},
   "outputs": [],
   "source": [
    "master_df = pd.read_csv('master_data.csv')"
   ]
  },
  {
   "cell_type": "code",
   "execution_count": 3,
   "id": "2e39133a",
   "metadata": {},
   "outputs": [],
   "source": [
    "master_df['key_sentences_array'] = master_df['key_sentences'].apply(lambda x: ast.literal_eval(x))\n",
    "master_df.rename(columns={'index': 'article_id'}, inplace = True)"
   ]
  },
  {
   "cell_type": "code",
   "execution_count": 9,
   "id": "f480bf0a",
   "metadata": {},
   "outputs": [
    {
     "data": {
      "text/plain": [
       "2018    16750\n",
       "2019    14448\n",
       "2020    13480\n",
       "2021     9008\n",
       "Name: year, dtype: int64"
      ]
     },
     "execution_count": 9,
     "metadata": {},
     "output_type": "execute_result"
    }
   ],
   "source": [
    "master_df['year'].value_counts()"
   ]
  },
  {
   "cell_type": "code",
   "execution_count": 4,
   "id": "f154ffb7",
   "metadata": {},
   "outputs": [],
   "source": [
    "df_2018 = master_df[master_df['year'] == 2018]\n",
    "\n",
    "flat_list = [item for sublist in list(df_2018['key_sentences_array'].dropna()) for item in sublist]\n",
    "sentence_2018_df = pd.DataFrame(flat_list, columns=['article_id', 'sentences', 'keywords'])"
   ]
  },
  {
   "cell_type": "code",
   "execution_count": 5,
   "id": "4b59b7b3",
   "metadata": {},
   "outputs": [],
   "source": [
    "df_2019 = master_df[master_df['year'] == 2019]\n",
    "\n",
    "flat_list = [item for sublist in list(df_2019['key_sentences_array'].dropna()) for item in sublist]\n",
    "sentence_2019_df = pd.DataFrame(flat_list, columns=['article_id', 'sentences', 'keywords'])"
   ]
  },
  {
   "cell_type": "code",
   "execution_count": 6,
   "id": "9f92ca39",
   "metadata": {},
   "outputs": [],
   "source": [
    "df_2020 = master_df[master_df['year'] == 2020]\n",
    "\n",
    "flat_list = [item for sublist in list(df_2020['key_sentences_array'].dropna()) for item in sublist]\n",
    "sentence_2020_df = pd.DataFrame(flat_list, columns=['article_id', 'sentences', 'keywords'])"
   ]
  },
  {
   "cell_type": "code",
   "execution_count": 7,
   "id": "b505adac",
   "metadata": {},
   "outputs": [],
   "source": [
    "df_2021 = master_df[master_df['year'] == 2021]\n",
    "\n",
    "flat_list = [item for sublist in list(df_2021['key_sentences_array'].dropna()) for item in sublist]\n",
    "sentence_2021_df = pd.DataFrame(flat_list, columns=['article_id', 'sentences', 'keywords'])"
   ]
  },
  {
   "cell_type": "code",
   "execution_count": 26,
   "id": "3e0b722e",
   "metadata": {},
   "outputs": [
    {
     "name": "stdout",
     "output_type": "stream",
     "text": [
      "2018 data\n",
      "---------\n",
      "No. articles: 16750\n",
      "No. sentences: 47704\n",
      "\n",
      "\n",
      "2019 data\n",
      "---------\n",
      "No. articles: 14448\n",
      "No. sentences: 44635\n",
      "\n",
      "\n",
      "2020 data\n",
      "---------\n",
      "No. articles: 13480\n",
      "No. sentences: 39379\n",
      "\n",
      "\n",
      "2021 data\n",
      "---------\n",
      "No. articles: 9008\n",
      "No. sentences: 23995\n"
     ]
    }
   ],
   "source": [
    "print('2018 data')\n",
    "print('---------')\n",
    "print('No. articles: ' + str(len(df_2018)))\n",
    "print('No. sentences: ' + str(len(sentence_2018_df)))\n",
    "print('\\n')\n",
    "\n",
    "print('2019 data')\n",
    "print('---------')\n",
    "print('No. articles: ' + str(len(df_2019)))\n",
    "print('No. sentences: ' + str(len(sentence_2019_df)))\n",
    "print('\\n')\n",
    "\n",
    "print('2020 data')\n",
    "print('---------')\n",
    "print('No. articles: ' + str(len(df_2020)))\n",
    "print('No. sentences: ' + str(len(sentence_2020_df)))\n",
    "print('\\n')\n",
    "\n",
    "print('2021 data')\n",
    "print('---------')\n",
    "print('No. articles: ' + str(len(df_2021)))\n",
    "print('No. sentences: ' + str(len(sentence_2021_df)))"
   ]
  },
  {
   "cell_type": "code",
   "execution_count": 29,
   "id": "aa5946f4",
   "metadata": {},
   "outputs": [],
   "source": [
    "df_2018.to_csv('2018_raw_articles_data.csv', index = False)\n",
    "sentence_2018_df.to_csv('2018_raw_sentences_data.csv', index = False)\n",
    "\n",
    "df_2019.to_csv('2019_raw_articles_data.csv', index = False)\n",
    "sentence_2019_df.to_csv('2019_raw_sentences_data.csv', index = False)\n",
    "\n",
    "df_2020.to_csv('2020_raw_articles_data.csv', index = False)\n",
    "sentence_2020_df.to_csv('2020_raw_sentences_data.csv', index = False)\n",
    "\n",
    "df_2021.to_csv('2021_raw_articles_data.csv', index = False)\n",
    "sentence_2021_df.to_csv('2021_raw_sentences_data.csv', index = False)"
   ]
  },
  {
   "cell_type": "markdown",
   "id": "0de60958",
   "metadata": {},
   "source": [
    "### Create JSON files using 2018 articles for NER Training\n",
    "\n",
    "Preparation of 3 batches of data for three annotators"
   ]
  },
  {
   "cell_type": "markdown",
   "id": "b6557d04",
   "metadata": {},
   "source": [
    "47704 is the total with 3 annotators\n",
    "\n",
    "1. Take out 1600 common samples with close to equal sample of each keyword\n",
    "2. Split the remaining into 3 boxes\n",
    "3. Add the 1600 to the split boxes\n",
    "\n",
    "We will end up with three batches of 16968 data samples for each annotator"
   ]
  },
  {
   "cell_type": "code",
   "execution_count": 1,
   "id": "8c2d5dda",
   "metadata": {},
   "outputs": [],
   "source": [
    "import json"
   ]
  },
  {
   "cell_type": "code",
   "execution_count": 11,
   "id": "7cde54a8",
   "metadata": {},
   "outputs": [],
   "source": [
    "batch_of_two_hundreds = []\n",
    "for key in sentence_2018_df['keywords'].value_counts().index:\n",
    "    batch_of_two_hundreds.append(sentence_2018_df[sentence_2018_df['keywords'] == key][:200])"
   ]
  },
  {
   "cell_type": "code",
   "execution_count": 12,
   "id": "e2d4fbcf",
   "metadata": {},
   "outputs": [],
   "source": [
    "batch_of_two_hundreds_df = pd.concat(batch_of_two_hundreds)"
   ]
  },
  {
   "cell_type": "code",
   "execution_count": 13,
   "id": "8627dd24",
   "metadata": {},
   "outputs": [
    {
     "data": {
      "text/plain": [
       "acquire        200\n",
       "merge          200\n",
       "acquisition    200\n",
       "merging        200\n",
       "acquiring      200\n",
       "acquired       200\n",
       "merged         200\n",
       "merger         200\n",
       "Name: keywords, dtype: int64"
      ]
     },
     "execution_count": 13,
     "metadata": {},
     "output_type": "execute_result"
    }
   ],
   "source": [
    "batch_of_two_hundreds_df['keywords'].value_counts()"
   ]
  },
  {
   "cell_type": "code",
   "execution_count": 14,
   "id": "2e65bc9e",
   "metadata": {},
   "outputs": [],
   "source": [
    "the_rest = []\n",
    "for key in sentence_2018_df['keywords'].value_counts().index:\n",
    "    the_rest.append(sentence_2018_df[sentence_2018_df['keywords'] == key][200:])"
   ]
  },
  {
   "cell_type": "code",
   "execution_count": 15,
   "id": "ae8ae2f8",
   "metadata": {},
   "outputs": [],
   "source": [
    "the_rest_df = pd.concat(the_rest)"
   ]
  },
  {
   "cell_type": "code",
   "execution_count": 16,
   "id": "26a1f892",
   "metadata": {},
   "outputs": [
    {
     "data": {
      "text/plain": [
       "merger         19819\n",
       "acquisition    14856\n",
       "acquire         5644\n",
       "merge           3731\n",
       "acquired        1724\n",
       "acquiring        222\n",
       "merging          103\n",
       "merged             5\n",
       "Name: keywords, dtype: int64"
      ]
     },
     "execution_count": 16,
     "metadata": {},
     "output_type": "execute_result"
    }
   ],
   "source": [
    "the_rest_df['keywords'].value_counts()"
   ]
  },
  {
   "cell_type": "code",
   "execution_count": 17,
   "id": "288ad351",
   "metadata": {},
   "outputs": [],
   "source": [
    "the_rest_df.reset_index(drop = True, inplace = True)"
   ]
  },
  {
   "cell_type": "code",
   "execution_count": 18,
   "id": "ae4442c4",
   "metadata": {},
   "outputs": [
    {
     "data": {
      "text/html": [
       "<div>\n",
       "<style scoped>\n",
       "    .dataframe tbody tr th:only-of-type {\n",
       "        vertical-align: middle;\n",
       "    }\n",
       "\n",
       "    .dataframe tbody tr th {\n",
       "        vertical-align: top;\n",
       "    }\n",
       "\n",
       "    .dataframe thead th {\n",
       "        text-align: right;\n",
       "    }\n",
       "</style>\n",
       "<table border=\"1\" class=\"dataframe\">\n",
       "  <thead>\n",
       "    <tr style=\"text-align: right;\">\n",
       "      <th></th>\n",
       "      <th>article_id</th>\n",
       "      <th>sentences</th>\n",
       "      <th>keywords</th>\n",
       "    </tr>\n",
       "  </thead>\n",
       "  <tbody>\n",
       "    <tr>\n",
       "      <th>0</th>\n",
       "      <td>261</td>\n",
       "      <td>The potential merger would be “a merger of equ...</td>\n",
       "      <td>merger</td>\n",
       "    </tr>\n",
       "    <tr>\n",
       "      <th>1</th>\n",
       "      <td>263</td>\n",
       "      <td>MANILA - The education units of the Yuchengco ...</td>\n",
       "      <td>merger</td>\n",
       "    </tr>\n",
       "    <tr>\n",
       "      <th>2</th>\n",
       "      <td>263</td>\n",
       "      <td>Ayala Corp's AC Education Inc and the Yuchengc...</td>\n",
       "      <td>merger</td>\n",
       "    </tr>\n",
       "    <tr>\n",
       "      <th>3</th>\n",
       "      <td>263</td>\n",
       "      <td>The merger would result in a combined student ...</td>\n",
       "      <td>merger</td>\n",
       "    </tr>\n",
       "    <tr>\n",
       "      <th>4</th>\n",
       "      <td>263</td>\n",
       "      <td>Ayala Corp chairperson Jaime Augusto Zobel de ...</td>\n",
       "      <td>merger</td>\n",
       "    </tr>\n",
       "    <tr>\n",
       "      <th>...</th>\n",
       "      <td>...</td>\n",
       "      <td>...</td>\n",
       "      <td>...</td>\n",
       "    </tr>\n",
       "    <tr>\n",
       "      <th>46099</th>\n",
       "      <td>16601</td>\n",
       "      <td>The fate of the villages which were merged wit...</td>\n",
       "      <td>merged</td>\n",
       "    </tr>\n",
       "    <tr>\n",
       "      <th>46100</th>\n",
       "      <td>16601</td>\n",
       "      <td>The municipal Act also showed them as merged v...</td>\n",
       "      <td>merged</td>\n",
       "    </tr>\n",
       "    <tr>\n",
       "      <th>46101</th>\n",
       "      <td>16649</td>\n",
       "      <td>Despite ensuring that I stayed only at the SPG...</td>\n",
       "      <td>merged</td>\n",
       "    </tr>\n",
       "    <tr>\n",
       "      <th>46102</th>\n",
       "      <td>16649</td>\n",
       "      <td>My SPG number is XXXXXXXX650 (recently merged ...</td>\n",
       "      <td>merged</td>\n",
       "    </tr>\n",
       "    <tr>\n",
       "      <th>46103</th>\n",
       "      <td>16649</td>\n",
       "      <td>If Marriott now suddenly claims that it is onl...</td>\n",
       "      <td>merged</td>\n",
       "    </tr>\n",
       "  </tbody>\n",
       "</table>\n",
       "<p>46104 rows × 3 columns</p>\n",
       "</div>"
      ],
      "text/plain": [
       "       article_id                                          sentences keywords\n",
       "0             261  The potential merger would be “a merger of equ...   merger\n",
       "1             263  MANILA - The education units of the Yuchengco ...   merger\n",
       "2             263  Ayala Corp's AC Education Inc and the Yuchengc...   merger\n",
       "3             263  The merger would result in a combined student ...   merger\n",
       "4             263  Ayala Corp chairperson Jaime Augusto Zobel de ...   merger\n",
       "...           ...                                                ...      ...\n",
       "46099       16601  The fate of the villages which were merged wit...   merged\n",
       "46100       16601  The municipal Act also showed them as merged v...   merged\n",
       "46101       16649  Despite ensuring that I stayed only at the SPG...   merged\n",
       "46102       16649  My SPG number is XXXXXXXX650 (recently merged ...   merged\n",
       "46103       16649  If Marriott now suddenly claims that it is onl...   merged\n",
       "\n",
       "[46104 rows x 3 columns]"
      ]
     },
     "execution_count": 18,
     "metadata": {},
     "output_type": "execute_result"
    }
   ],
   "source": [
    "the_rest_df"
   ]
  },
  {
   "cell_type": "code",
   "execution_count": 19,
   "id": "8bd495c4",
   "metadata": {},
   "outputs": [],
   "source": [
    "shuffled = the_rest_df.sample(frac=1)"
   ]
  },
  {
   "cell_type": "code",
   "execution_count": 23,
   "id": "f314d769",
   "metadata": {},
   "outputs": [],
   "source": [
    "result = np.array_split(shuffled, 3)"
   ]
  },
  {
   "cell_type": "code",
   "execution_count": 26,
   "id": "adb8ea08",
   "metadata": {},
   "outputs": [],
   "source": [
    "dataset1 = result[0].append(batch_of_two_hundreds_df)"
   ]
  },
  {
   "cell_type": "code",
   "execution_count": 27,
   "id": "045ec082",
   "metadata": {},
   "outputs": [],
   "source": [
    "dataset2 = result[1].append(batch_of_two_hundreds_df)"
   ]
  },
  {
   "cell_type": "code",
   "execution_count": 28,
   "id": "d1589936",
   "metadata": {},
   "outputs": [],
   "source": [
    "dataset3 = result[2].append(batch_of_two_hundreds_df)"
   ]
  },
  {
   "cell_type": "code",
   "execution_count": 29,
   "id": "e7363210",
   "metadata": {},
   "outputs": [],
   "source": [
    "dataset1.reset_index(drop = True, inplace = True)\n",
    "dataset2.reset_index(drop = True, inplace = True)\n",
    "dataset3.reset_index(drop = True, inplace = True)"
   ]
  },
  {
   "cell_type": "code",
   "execution_count": 31,
   "id": "13b9dc72",
   "metadata": {},
   "outputs": [],
   "source": [
    "batch_of_two_hundreds_df.to_csv('common_batch.csv', index = False)"
   ]
  },
  {
   "cell_type": "code",
   "execution_count": 59,
   "id": "2306376e",
   "metadata": {},
   "outputs": [],
   "source": [
    "with open(\"dataset1.json\", \"w\") as outfile:\n",
    "    for i in range(len(dataset1)):\n",
    "        data = {\"text\": dataset1['sentences'][i], \"label\": []}\n",
    "        json.dump(data, outfile)\n",
    "        outfile.write('\\n')"
   ]
  },
  {
   "cell_type": "code",
   "execution_count": 60,
   "id": "0baf6280",
   "metadata": {},
   "outputs": [],
   "source": [
    "with open(\"dataset2.json\", \"w\") as outfile:\n",
    "    for i in range(len(dataset2)):\n",
    "        data = {\"text\": dataset2['sentences'][i], \"label\": []}\n",
    "        json.dump(data, outfile)\n",
    "        outfile.write('\\n')"
   ]
  },
  {
   "cell_type": "code",
   "execution_count": 61,
   "id": "b5cb59c5",
   "metadata": {},
   "outputs": [],
   "source": [
    "with open(\"dataset3.json\", \"w\") as outfile:\n",
    "    for i in range(len(dataset3)):\n",
    "        data = {\"text\": dataset3['sentences'][i], \"label\": []}\n",
    "        json.dump(data, outfile)\n",
    "        outfile.write('\\n')"
   ]
  }
 ],
 "metadata": {
  "kernelspec": {
   "display_name": "Python 3",
   "language": "python",
   "name": "python3"
  },
  "language_info": {
   "codemirror_mode": {
    "name": "ipython",
    "version": 3
   },
   "file_extension": ".py",
   "mimetype": "text/x-python",
   "name": "python",
   "nbconvert_exporter": "python",
   "pygments_lexer": "ipython3",
   "version": "3.8.8"
  }
 },
 "nbformat": 4,
 "nbformat_minor": 5
}
